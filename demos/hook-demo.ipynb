{
 "cells": [
  {
   "cell_type": "markdown",
   "id": "2af9d9f8",
   "metadata": {},
   "source": [
    "# Hook Demo\n",
    "\n",
    "Notebook to test behaviour of various hooks."
   ]
  },
  {
   "cell_type": "code",
   "execution_count": null,
   "id": "3307fe15",
   "metadata": {},
   "outputs": [],
   "source": []
  }
 ],
 "metadata": {
  "jupytext": {
   "formats": "ipynb,.md//md:myst"
  },
  "kernelspec": {
   "display_name": "Python 3",
   "language": "python",
   "name": "python3"
  },
  "language_info": {
   "codemirror_mode": {
    "name": "ipython",
    "version": 3
   },
   "file_extension": ".py",
   "mimetype": "text/x-python",
   "name": "python",
   "nbconvert_exporter": "python",
   "pygments_lexer": "ipython3",
   "version": "3.9.7"
  }
 },
 "nbformat": 4,
 "nbformat_minor": 5
}
